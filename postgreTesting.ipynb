{
 "cells": [
  {
   "cell_type": "markdown",
   "id": "968220ac-5e7d-467b-9a27-1291e22cedfc",
   "metadata": {},
   "source": [
    "To run this yourself, before running the jupyter notebook, openup postgres in command line & make tables test1 and test2, as well as run CREATE EXTENSION btree_gist; "
   ]
  },
  {
   "cell_type": "code",
   "execution_count": 59,
   "id": "d346455d-0c60-4b6f-8437-7baa76b6dd81",
   "metadata": {},
   "outputs": [],
   "source": [
    "import psycopg2\n",
    "import random\n",
    "import timeit\n",
    "import numpy as np\n",
    "import matplotlib.pyplot as plt\n",
    "from scipy.optimize import curve_fit"
   ]
  },
  {
   "cell_type": "code",
   "execution_count": 6,
   "id": "81fd07ac-4dc6-4e0a-97f4-cbee9bc59126",
   "metadata": {},
   "outputs": [],
   "source": [
    "conn = psycopg2.connect(\"dbname=postgres user=postgres host = /var/run/postgresql/\")\n",
    "cur = conn.cursor()"
   ]
  },
  {
   "cell_type": "code",
   "execution_count": 7,
   "id": "c3527003-9dec-4409-81b0-146384912c5e",
   "metadata": {},
   "outputs": [],
   "source": [
    "def c_setup_1(N):\n",
    "    random.seed(42)\n",
    "    cur.execute('DROP TABLE test1;')\n",
    "    cur.execute('CREATE TABLE test1 (coverage int8range);')\n",
    "    for i in range(N):\n",
    "        a = random.randint(0, 2**32)\n",
    "        b = random.randint(0, 2**32)\n",
    "        if a < b:\n",
    "            (lower, upper) = (a, b) \n",
    "        else:\n",
    "            (upper, lower) = (a, b)\n",
    "        cur.execute(f'INSERT INTO test1 VALUES (int8range({lower}, {upper}));')\n",
    "    cur.execute('CREATE INDEX test1_i ON test1 USING GIST (coverage);')"
   ]
  },
  {
   "cell_type": "code",
   "execution_count": 100,
   "id": "d0e1102f-162e-4fad-905c-a655f9219e94",
   "metadata": {},
   "outputs": [
    {
     "name": "stdout",
     "output_type": "stream",
     "text": [
      "0\n",
      "10000\n",
      "20000\n",
      "30000\n",
      "40000\n",
      "50000\n",
      "60000\n",
      "70000\n",
      "80000\n",
      "90000\n",
      "100000\n"
     ]
    }
   ],
   "source": [
    "N_list = np.arange(0, 101000, 1000)\n",
    "t_list = []\n",
    "for N in N_list:\n",
    "    if N%10000==0: print(N)\n",
    "    c_setup_1(N)\n",
    "    t_list.append(timeit.timeit(lambda: cur.execute('SELECT range_agg(coverage) FROM test1;'), number=1))"
   ]
  },
  {
   "cell_type": "code",
   "execution_count": 103,
   "id": "0c222b29-8a55-4115-970a-cfa3704470b4",
   "metadata": {},
   "outputs": [
    {
     "data": {
      "text/plain": [
       "Text(0.5, 1.0, 'range_agg big O')"
      ]
     },
     "execution_count": 103,
     "metadata": {},
     "output_type": "execute_result"
    },
    {
     "data": {
      "image/png": "[encoded data removed]",
      "text/plain": [
       "<Figure size 720x576 with 1 Axes>"
      ]
     },
     "metadata": {
      "needs_background": "light"
     },
     "output_type": "display_data"
    }
   ],
   "source": [
    "fig, ax = plt.subplots(figsize = (10,8))\n",
    "ax.scatter(N_list, t_list)\n",
    "ax.set_xlabel('N')\n",
    "ax.set_ylabel('Runtime (s)')\n",
    "ax.set_title('range_agg big O')\n",
    "#Outliers probably because I was running gwemopt stuff concurrently"
   ]
  },
  {
   "cell_type": "code",
   "execution_count": 8,
   "id": "0da37632-2381-434a-999a-9ff23d920ac6",
   "metadata": {},
   "outputs": [],
   "source": [
    "def c_setup_2(M):\n",
    "    random.seed(14)\n",
    "    cur.execute('DROP TABLE test2;')\n",
    "    cur.execute('CREATE TABLE test2 (row1 int8, row2 int8range);')\n",
    "    for i in range(M):\n",
    "        c = random.randint(0, 2**32)\n",
    "        d = random.randint(0, 2**32)\n",
    "        e = random.randint(0, 2**32)\n",
    "        if d < e:\n",
    "            (lower, upper) = (d, e) \n",
    "        else:\n",
    "            (upper, lower) = (d, e)\n",
    "        cur.execute(f'INSERT INTO test2 (row1, row2) VALUES ({c}, int8range({lower}, {upper}));')\n",
    "    cur.execute('CREATE INDEX test2_i1 ON test2 USING GIST (row1);')\n",
    "    cur.execute('CREATE INDEX test2_i2 ON test2 USING GIST (row2);')"
   ]
  },
  {
   "cell_type": "code",
   "execution_count": 54,
   "id": "791de1ef-52a1-4166-b9b4-731ac5f94ee7",
   "metadata": {
    "collapsed": true,
    "jupyter": {
     "outputs_hidden": true
    },
    "tags": []
   },
   "outputs": [
    {
     "name": "stdout",
     "output_type": "stream",
     "text": [
      "N:  50000\n",
      "M:  1000\n",
      "M:  2000\n",
      "M:  3000\n",
      "M:  4000\n",
      "M:  5000\n",
      "M:  6000\n",
      "M:  7000\n",
      "M:  8000\n",
      "M:  9000\n",
      "M:  10000\n",
      "M:  11000\n",
      "M:  12000\n",
      "M:  13000\n",
      "M:  14000\n",
      "M:  15000\n",
      "M:  16000\n",
      "M:  17000\n",
      "M:  18000\n",
      "M:  19000\n",
      "M:  20000\n",
      "M:  21000\n",
      "M:  22000\n",
      "M:  23000\n",
      "M:  24000\n",
      "M:  25000\n",
      "M:  26000\n",
      "M:  27000\n",
      "M:  28000\n",
      "M:  29000\n",
      "M:  30000\n",
      "M:  31000\n",
      "M:  32000\n",
      "M:  33000\n",
      "M:  34000\n",
      "M:  35000\n",
      "M:  36000\n",
      "M:  37000\n",
      "M:  38000\n",
      "M:  39000\n",
      "M:  40000\n",
      "M:  41000\n",
      "M:  42000\n",
      "M:  43000\n",
      "M:  44000\n",
      "M:  45000\n",
      "M:  46000\n",
      "M:  47000\n",
      "M:  48000\n",
      "M:  49000\n",
      "M:  50000\n",
      "M:  51000\n",
      "M:  52000\n",
      "M:  53000\n",
      "M:  54000\n",
      "M:  55000\n",
      "M:  56000\n",
      "M:  57000\n",
      "M:  58000\n",
      "M:  59000\n",
      "M:  60000\n",
      "M:  61000\n",
      "M:  62000\n",
      "M:  63000\n",
      "M:  64000\n",
      "M:  65000\n",
      "M:  66000\n",
      "M:  67000\n",
      "M:  68000\n",
      "M:  69000\n",
      "M:  70000\n",
      "M:  71000\n",
      "M:  72000\n",
      "M:  73000\n",
      "M:  74000\n",
      "M:  75000\n",
      "M:  76000\n",
      "M:  77000\n",
      "M:  78000\n",
      "M:  79000\n",
      "M:  80000\n",
      "M:  81000\n",
      "M:  82000\n",
      "M:  83000\n",
      "M:  84000\n",
      "M:  85000\n",
      "M:  86000\n",
      "M:  87000\n",
      "M:  88000\n",
      "M:  89000\n",
      "M:  90000\n",
      "M:  91000\n",
      "M:  92000\n",
      "M:  93000\n",
      "M:  94000\n",
      "M:  95000\n",
      "M:  96000\n",
      "M:  97000\n",
      "M:  98000\n",
      "M:  99000\n",
      "M:  100000\n",
      "M:  101000\n",
      "M:  102000\n",
      "M:  103000\n",
      "M:  104000\n",
      "M:  105000\n",
      "M:  106000\n",
      "M:  107000\n",
      "M:  108000\n",
      "M:  109000\n",
      "M:  110000\n",
      "M:  111000\n",
      "M:  112000\n",
      "M:  113000\n",
      "M:  114000\n",
      "M:  115000\n",
      "M:  116000\n",
      "M:  117000\n",
      "M:  118000\n",
      "M:  119000\n",
      "M:  120000\n",
      "M:  121000\n",
      "M:  122000\n",
      "M:  123000\n",
      "M:  124000\n",
      "M:  125000\n",
      "M:  126000\n",
      "M:  127000\n",
      "M:  128000\n",
      "M:  129000\n",
      "M:  130000\n",
      "M:  131000\n",
      "M:  132000\n",
      "M:  133000\n",
      "M:  134000\n",
      "M:  135000\n",
      "M:  136000\n",
      "M:  137000\n",
      "M:  138000\n",
      "M:  139000\n",
      "M:  140000\n",
      "M:  141000\n",
      "M:  142000\n",
      "M:  143000\n",
      "M:  144000\n",
      "M:  145000\n",
      "M:  146000\n",
      "M:  147000\n",
      "M:  148000\n",
      "M:  149000\n",
      "M:  150000\n",
      "M:  151000\n",
      "M:  152000\n",
      "M:  153000\n",
      "M:  154000\n",
      "M:  155000\n",
      "M:  156000\n",
      "M:  157000\n",
      "M:  158000\n",
      "M:  159000\n",
      "M:  160000\n",
      "M:  161000\n",
      "M:  162000\n",
      "M:  163000\n",
      "M:  164000\n",
      "M:  165000\n",
      "M:  166000\n",
      "M:  167000\n",
      "M:  168000\n",
      "M:  169000\n",
      "M:  170000\n",
      "M:  171000\n",
      "M:  172000\n",
      "M:  173000\n",
      "M:  174000\n",
      "M:  175000\n",
      "M:  176000\n",
      "M:  177000\n",
      "M:  178000\n",
      "M:  179000\n",
      "M:  180000\n",
      "M:  181000\n",
      "M:  182000\n",
      "M:  183000\n",
      "M:  184000\n",
      "M:  185000\n",
      "M:  186000\n",
      "M:  187000\n",
      "M:  188000\n",
      "M:  189000\n",
      "M:  190000\n",
      "M:  191000\n",
      "M:  192000\n",
      "M:  193000\n",
      "M:  194000\n",
      "M:  195000\n",
      "M:  196000\n",
      "M:  197000\n",
      "M:  198000\n",
      "M:  199000\n",
      "M:  200000\n",
      "M:  201000\n",
      "M:  202000\n",
      "M:  203000\n",
      "M:  204000\n",
      "M:  205000\n",
      "M:  206000\n",
      "M:  207000\n",
      "M:  208000\n",
      "M:  209000\n",
      "M:  210000\n",
      "M:  211000\n",
      "M:  212000\n",
      "M:  213000\n",
      "M:  214000\n",
      "M:  215000\n",
      "M:  216000\n",
      "M:  217000\n",
      "M:  218000\n",
      "M:  219000\n",
      "M:  220000\n",
      "M:  221000\n",
      "M:  222000\n",
      "M:  223000\n",
      "M:  224000\n",
      "M:  225000\n",
      "M:  226000\n",
      "M:  227000\n",
      "M:  228000\n",
      "M:  229000\n",
      "M:  230000\n",
      "M:  231000\n",
      "M:  232000\n",
      "M:  233000\n",
      "M:  234000\n",
      "M:  235000\n",
      "M:  236000\n",
      "M:  237000\n",
      "M:  238000\n",
      "M:  239000\n",
      "M:  240000\n",
      "M:  241000\n",
      "M:  242000\n",
      "M:  243000\n",
      "M:  244000\n",
      "M:  245000\n",
      "M:  246000\n",
      "M:  247000\n",
      "M:  248000\n",
      "M:  249000\n",
      "M:  250000\n",
      "M:  251000\n",
      "M:  252000\n",
      "M:  253000\n",
      "M:  254000\n",
      "M:  255000\n",
      "M:  256000\n",
      "M:  257000\n",
      "M:  258000\n",
      "M:  259000\n",
      "M:  260000\n",
      "M:  261000\n",
      "M:  262000\n",
      "M:  263000\n",
      "M:  264000\n",
      "M:  265000\n",
      "M:  266000\n",
      "M:  267000\n",
      "M:  268000\n",
      "M:  269000\n",
      "M:  270000\n",
      "M:  271000\n",
      "M:  272000\n",
      "M:  273000\n",
      "M:  274000\n",
      "M:  275000\n",
      "M:  276000\n",
      "M:  277000\n",
      "M:  278000\n",
      "M:  279000\n",
      "M:  280000\n",
      "M:  281000\n",
      "M:  282000\n",
      "M:  283000\n",
      "M:  284000\n",
      "M:  285000\n",
      "M:  286000\n",
      "M:  287000\n",
      "M:  288000\n",
      "M:  289000\n",
      "M:  290000\n",
      "M:  291000\n",
      "M:  292000\n",
      "M:  293000\n",
      "M:  294000\n",
      "M:  295000\n",
      "M:  296000\n",
      "M:  297000\n",
      "M:  298000\n",
      "M:  299000\n",
      "M:  300000\n"
     ]
    }
   ],
   "source": [
    "N_list = [50000]\n",
    "M_list = np.arange(1000, 301000, 1000)\n",
    "sum_list = []\n",
    "t_list_1 = []\n",
    "t_list_2 = []\n",
    "for N in N_list:\n",
    "    print('N: ', N)\n",
    "    c_setup_1(N)\n",
    "    for M in M_list:\n",
    "        print('M: ', M)\n",
    "        c_setup_2(M)\n",
    "        t_list_1.append(timeit.timeit(lambda: cur.execute('SELECT row1 FROM test2 where test2.row1 <@ (SELECT range_agg(coverage) FROM test1);'), number=1))\n",
    "        t_list_2.append(timeit.timeit(lambda: cur.execute('SELECT row2 FROM test2 where test2.row2 && (SELECT range_agg(coverage) FROM test1);'), number=1))\n",
    "        sum_list.append(N+M)"
   ]
  },
  {
   "cell_type": "code",
   "execution_count": 99,
   "id": "4428bf06-436e-459b-8d25-adcf10823748",
   "metadata": {},
   "outputs": [
    {
     "data": {
      "text/plain": [
       "Text(0, 0.5, 'Runtime (s)')"
      ]
     },
     "execution_count": 99,
     "metadata": {},
     "output_type": "execute_result"
    },
    {
     "data": {
      "image/png": "[encoded data removed]",
      "text/plain": [
       "<Figure size 720x576 with 1 Axes>"
      ]
     },
     "metadata": {
      "needs_background": "light"
     },
     "output_type": "display_data"
    }
   ],
   "source": [
    "fig, ax = plt.subplots(figsize = (10,8))\n",
    "ax.scatter(sum_list, t_list_1, alpha = 0.2)\n",
    "ax.plot(sum_list, 2.15346613e-07*np.asarray(sum_list)+3.01658852e-02, label = 'O(N) (linear fit)')\n",
    "#ax.plot(sum_list, 1.13580084e-08*np.asarray(sum_list)*np.log2(np.asarray(sum_list))+3.29053034e-02, label = 'O(NLogN)')\n",
    "ax.set_title('Int8 column')\n",
    "ax.legend()\n",
    "ax.set_xlabel('N+M')\n",
    "ax.set_ylabel('Runtime (s)')"
   ]
  },
  {
   "cell_type": "code",
   "execution_count": 82,
   "id": "f250cbcf-542d-4069-8188-6f34f50e2207",
   "metadata": {},
   "outputs": [
    {
     "data": {
      "text/plain": [
       "((array([2.15346613e-07, 3.01658852e-02]),\n",
       "  array([[ 3.78636211e-18, -7.59165607e-13],\n",
       "         [-7.59165607e-13,  1.80610106e-07]])),\n",
       " (array([1.13580084e-08, 3.29053034e-02]),\n",
       "  array([[ 1.02828481e-20, -3.66097166e-14],\n",
       "         [-3.66097166e-14,  1.58079211e-07]])))"
      ]
     },
     "execution_count": 82,
     "metadata": {},
     "output_type": "execute_result"
    }
   ],
   "source": [
    "curve_fit(O_N, sum_list, t_list_1), curve_fit(O_N_Log_N, sum_list, t_list_1)"
   ]
  },
  {
   "cell_type": "code",
   "execution_count": 98,
   "id": "7132f8bd-78b1-47b9-8e1a-70d2d3067f38",
   "metadata": {},
   "outputs": [
    {
     "data": {
      "text/plain": [
       "Text(0.5, 1.0, 'int8range column')"
      ]
     },
     "execution_count": 98,
     "metadata": {},
     "output_type": "execute_result"
    },
    {
     "data": {
      "image/png": "[encoded data removed]",
      "text/plain": [
       "<Figure size 720x576 with 1 Axes>"
      ]
     },
     "metadata": {
      "needs_background": "light"
     },
     "output_type": "display_data"
    }
   ],
   "source": [
    "fig, ax = plt.subplots(figsize = (10,8))\n",
    "ax.scatter(sum_list, t_list_2, alpha = 0.2)\n",
    "ax.plot(sum_list, np.asarray(sum_list)*5.05515330e-07+1.59767485e-02, label = 'O(N) (linear fit)')\n",
    "#ax.plot(sum_list, np.asarray(sum_list)*np.log2(np.asarray(sum_list))*2.66521134e-08+2.24438493e-02, label = 'O(NLogN)') #'Slope' on this is so small that it's essentiall linear\n",
    "ax.legend()\n",
    "ax.set_xlabel('N+M')\n",
    "ax.set_ylabel('Runtime (s)')\n",
    "ax.set_title('int8range column')"
   ]
  },
  {
   "cell_type": "code",
   "execution_count": 84,
   "id": "58a8e809-ac04-43fe-8916-e408d4aa2829",
   "metadata": {},
   "outputs": [
    {
     "data": {
      "text/plain": [
       "((array([5.05515330e-07, 1.59767485e-02]),\n",
       "  array([[ 7.26662924e-18, -1.45695915e-12],\n",
       "         [-1.45695915e-12,  3.46619413e-07]])),\n",
       " (array([2.66521134e-08, 2.24438493e-02]),\n",
       "  array([[ 2.06893882e-20, -7.36598100e-14],\n",
       "         [-7.36598100e-14,  3.18059949e-07]])))"
      ]
     },
     "execution_count": 84,
     "metadata": {},
     "output_type": "execute_result"
    }
   ],
   "source": [
    "curve_fit(O_N, sum_list, t_list_2), curve_fit(O_N_Log_N, sum_list, t_list_2)"
   ]
  },
  {
   "cell_type": "code",
   "execution_count": 57,
   "id": "699cfe48-dda3-447c-81c8-4aa8a664067d",
   "metadata": {},
   "outputs": [],
   "source": [
    "def O_N(x, m, b):\n",
    "    return m*x+b"
   ]
  },
  {
   "cell_type": "code",
   "execution_count": 83,
   "id": "c051d01a-c1e4-45c7-a519-61e8e17765b1",
   "metadata": {},
   "outputs": [],
   "source": [
    "def O_N_Log_N(x, m, b):\n",
    "    return m*x*np.log2(x)+b"
   ]
  },
  {
   "cell_type": "code",
   "execution_count": 73,
   "id": "c8f58669-1da8-459a-9345-a8bd9f931483",
   "metadata": {},
   "outputs": [
    {
     "data": {
      "text/plain": [
       "1.0"
      ]
     },
     "execution_count": 73,
     "metadata": {},
     "output_type": "execute_result"
    }
   ],
   "source": [
    "np.log2(2)"
   ]
  },
  {
   "cell_type": "code",
   "execution_count": null,
   "id": "c44ec415-de77-4495-9ca5-23aaa6ce27f6",
   "metadata": {},
   "outputs": [],
   "source": []
  }
 ],
 "metadata": {
  "kernelspec": {
   "display_name": "Python 3 (ipykernel)",
   "language": "python",
   "name": "python3"
  },
  "language_info": {
   "codemirror_mode": {
    "name": "ipython",
    "version": 3
   },
   "file_extension": ".py",
   "mimetype": "text/x-python",
   "name": "python",
   "nbconvert_exporter": "python",
   "pygments_lexer": "ipython3",
   "version": "3.9.7"
  }
 },
 "nbformat": 4,
 "nbformat_minor": 5
}
