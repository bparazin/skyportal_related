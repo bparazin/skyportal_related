{
 "cells": [
  {
   "cell_type": "markdown",
   "id": "968220ac-5e7d-467b-9a27-1291e22cedfc",
   "metadata": {},
   "source": [
    "To run this yourself, before running the jupyter notebook, openup postgres in command line & make tables test1 and test2, as well as CREATE EXTENSION btree_gist; "
   ]
  },
  {
   "cell_type": "code",
   "execution_count": 5,
   "id": "d346455d-0c60-4b6f-8437-7baa76b6dd81",
   "metadata": {},
   "outputs": [],
   "source": [
    "import psycopg2\n",
    "import random\n",
    "import timeit\n",
    "import numpy as np\n",
    "import matplotlib.pyplot as plt"
   ]
  },
  {
   "cell_type": "code",
   "execution_count": 6,
   "id": "81fd07ac-4dc6-4e0a-97f4-cbee9bc59126",
   "metadata": {},
   "outputs": [],
   "source": [
    "conn = psycopg2.connect(\"dbname=postgres user=postgres host = /var/run/postgresql/\")\n",
    "cur = conn.cursor()"
   ]
  },
  {
   "cell_type": "code",
   "execution_count": 7,
   "id": "c3527003-9dec-4409-81b0-146384912c5e",
   "metadata": {},
   "outputs": [],
   "source": [
    "def c_setup_1(N):\n",
    "    random.seed(42)\n",
    "    cur.execute('DROP TABLE test1;')\n",
    "    cur.execute('CREATE TABLE test1 (coverage int8range);')\n",
    "    for i in range(N):\n",
    "        a = random.randint(0, 2**32)\n",
    "        b = random.randint(0, 2**32)\n",
    "        if a < b:\n",
    "            (lower, upper) = (a, b) \n",
    "        else:\n",
    "            (upper, lower) = (a, b)\n",
    "        cur.execute(f'INSERT INTO test1 VALUES (int8range({lower}, {upper}));')\n",
    "    cur.execute('CREATE INDEX test1_i ON test1 USING GIST (coverage);')"
   ]
  },
  {
   "cell_type": "code",
   "execution_count": 4,
   "id": "d0e1102f-162e-4fad-905c-a655f9219e94",
   "metadata": {},
   "outputs": [
    {
     "name": "stdout",
     "output_type": "stream",
     "text": [
      "0\n",
      "10000\n",
      "20000\n",
      "30000\n",
      "40000\n",
      "50000\n"
     ]
    }
   ],
   "source": [
    "N_list = np.arange(0, 101000, 3000)\n",
    "t_list = []\n",
    "for N in N_list:\n",
    "    if N%10000==0: print(N)\n",
    "    c_setup_1(N)\n",
    "    t_list.append(timeit.timeit(lambda: cur.execute('SELECT range_agg(coverage) FROM test1;'), number=1))"
   ]
  },
  {
   "cell_type": "code",
   "execution_count": 5,
   "id": "0c222b29-8a55-4115-970a-cfa3704470b4",
   "metadata": {},
   "outputs": [
    {
     "data": {
      "text/plain": [
       "Text(0, 0.5, 'Runtime (s)')"
      ]
     },
     "execution_count": 5,
     "metadata": {},
     "output_type": "execute_result"
    },
    {
     "data": {
      "image/png": "[encoded data removed]",
      "text/plain": [
       "<Figure size 720x576 with 1 Axes>"
      ]
     },
     "metadata": {
      "needs_background": "light"
     },
     "output_type": "display_data"
    }
   ],
   "source": [
    "fig, ax = plt.subplots(figsize = (10,8))\n",
    "ax.scatter(N_list, t_list)\n",
    "ax.set_xlabel('N')\n",
    "ax.set_ylabel('Runtime (s)')"
   ]
  },
  {
   "cell_type": "code",
   "execution_count": 8,
   "id": "0da37632-2381-434a-999a-9ff23d920ac6",
   "metadata": {},
   "outputs": [],
   "source": [
    "def c_setup_2(M):\n",
    "    random.seed(14)\n",
    "    cur.execute('DROP TABLE test2;')\n",
    "    cur.execute('CREATE TABLE test2 (row1 int8, row2 int8range);')\n",
    "    for i in range(M):\n",
    "        c = random.randint(0, 2**32)\n",
    "        d = random.randint(0, 2**32)\n",
    "        e = random.randint(0, 2**32)\n",
    "        if d < e:\n",
    "            (lower, upper) = (d, e) \n",
    "        else:\n",
    "            (upper, lower) = (d, e)\n",
    "        cur.execute(f'INSERT INTO test2 (row1, row2) VALUES ({c}, int8range({lower}, {upper}));')\n",
    "    cur.execute('CREATE INDEX test2_i1 ON test2 USING GIST (row1);')\n",
    "    cur.execute('CREATE INDEX test2_i2 ON test2 USING GIST (row2);')"
   ]
  },
  {
   "cell_type": "code",
   "execution_count": null,
   "id": "791de1ef-52a1-4166-b9b4-731ac5f94ee7",
   "metadata": {},
   "outputs": [
    {
     "name": "stdout",
     "output_type": "stream",
     "text": [
      "N:  50000\n",
      "M:  1000\n",
      "M:  2000\n",
      "M:  3000\n",
      "M:  4000\n",
      "M:  5000\n",
      "M:  6000\n",
      "M:  7000\n",
      "M:  8000\n",
      "M:  9000\n",
      "M:  10000\n",
      "M:  11000\n",
      "M:  12000\n",
      "M:  13000\n",
      "M:  14000\n",
      "M:  15000\n",
      "M:  16000\n",
      "M:  17000\n",
      "M:  18000\n",
      "M:  19000\n",
      "M:  20000\n",
      "M:  21000\n",
      "M:  22000\n",
      "M:  23000\n",
      "M:  24000\n",
      "M:  25000\n",
      "M:  26000\n",
      "M:  27000\n",
      "M:  28000\n",
      "M:  29000\n",
      "M:  30000\n",
      "M:  31000\n",
      "M:  32000\n",
      "M:  33000\n",
      "M:  34000\n",
      "M:  35000\n",
      "M:  36000\n",
      "M:  37000\n",
      "M:  38000\n",
      "M:  39000\n",
      "M:  40000\n",
      "M:  41000\n",
      "M:  42000\n",
      "M:  43000\n",
      "M:  44000\n",
      "M:  45000\n",
      "M:  46000\n",
      "M:  47000\n",
      "M:  48000\n",
      "M:  49000\n",
      "M:  50000\n",
      "M:  51000\n",
      "M:  52000\n",
      "M:  53000\n",
      "M:  54000\n",
      "M:  55000\n",
      "M:  56000\n",
      "M:  57000\n",
      "M:  58000\n",
      "M:  59000\n",
      "M:  60000\n",
      "M:  61000\n",
      "M:  62000\n",
      "M:  63000\n",
      "M:  64000\n",
      "M:  65000\n",
      "M:  66000\n",
      "M:  67000\n",
      "M:  68000\n",
      "M:  69000\n",
      "M:  70000\n",
      "M:  71000\n",
      "M:  72000\n",
      "M:  73000\n",
      "M:  74000\n",
      "M:  75000\n",
      "M:  76000\n",
      "M:  77000\n",
      "M:  78000\n",
      "M:  79000\n",
      "M:  80000\n",
      "M:  81000\n",
      "M:  82000\n",
      "M:  83000\n",
      "M:  84000\n"
     ]
    }
   ],
   "source": [
    "N_list = [50000]\n",
    "M_list = np.arange(1000, 301000, 1000)\n",
    "sum_list = []\n",
    "t_list_1 = []\n",
    "t_list_2 = []\n",
    "for N in N_list:\n",
    "    print('N: ', N)\n",
    "    c_setup_1(N)\n",
    "    for M in M_list:\n",
    "        print('M: ', M)\n",
    "        c_setup_2(M)\n",
    "        t_list_1.append(timeit.timeit(lambda: cur.execute('SELECT row1 FROM test2 where test2.row1 <@ (SELECT range_agg(coverage) FROM test1);'), number=1))\n",
    "        t_list_2.append(timeit.timeit(lambda: cur.execute('SELECT row2 FROM test2 where test2.row2 && (SELECT range_agg(coverage) FROM test1);'), number=1))\n",
    "        sum_list.append(N+M)"
   ]
  },
  {
   "cell_type": "code",
   "execution_count": 53,
   "id": "4428bf06-436e-459b-8d25-adcf10823748",
   "metadata": {},
   "outputs": [
    {
     "data": {
      "text/plain": [
       "Text(0, 0.5, 'Runtime (s)')"
      ]
     },
     "execution_count": 53,
     "metadata": {},
     "output_type": "execute_result"
    },
    {
     "data": {
      "image/png": "[encoded data removed]",
      "text/plain": [
       "<Figure size 720x576 with 1 Axes>"
      ]
     },
     "metadata": {
      "needs_background": "light"
     },
     "output_type": "display_data"
    }
   ],
   "source": [
    "fig, ax = plt.subplots(figsize = (10,8))\n",
    "ax.scatter(sum_list, t_list_1)\n",
    "ax.set_xlabel('N+M')\n",
    "ax.set_ylabel('Runtime (s)')"
   ]
  },
  {
   "cell_type": "code",
   "execution_count": 28,
   "id": "7132f8bd-78b1-47b9-8e1a-70d2d3067f38",
   "metadata": {},
   "outputs": [
    {
     "data": {
      "text/plain": [
       "Text(0, 0.5, 'Runtime (s)')"
      ]
     },
     "execution_count": 28,
     "metadata": {},
     "output_type": "execute_result"
    },
    {
     "data": {
      "image/png": "[encoded data removed]",
      "text/plain": [
       "<Figure size 720x576 with 1 Axes>"
      ]
     },
     "metadata": {
      "needs_background": "light"
     },
     "output_type": "display_data"
    }
   ],
   "source": [
    "fig, ax = plt.subplots(figsize = (10,8))\n",
    "ax.scatter(sum_list, t_list_2)\n",
    "ax.set_xlabel('N+M')\n",
    "ax.set_ylabel('Runtime (s)')"
   ]
  },
  {
   "cell_type": "code",
   "execution_count": null,
   "id": "699cfe48-dda3-447c-81c8-4aa8a664067d",
   "metadata": {},
   "outputs": [],
   "source": []
  }
 ],
 "metadata": {
  "kernelspec": {
   "display_name": "Python 3 (ipykernel)",
   "language": "python",
   "name": "python3"
  },
  "language_info": {
   "codemirror_mode": {
    "name": "ipython",
    "version": 3
   },
   "file_extension": ".py",
   "mimetype": "text/x-python",
   "name": "python",
   "nbconvert_exporter": "python",
   "pygments_lexer": "ipython3",
   "version": "3.9.7"
  }
 },
 "nbformat": 4,
 "nbformat_minor": 5
}
